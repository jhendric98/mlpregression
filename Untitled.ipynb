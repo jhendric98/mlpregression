{
 "cells": [
  {
   "cell_type": "code",
   "execution_count": 1,
   "metadata": {},
   "outputs": [
    {
     "name": "stderr",
     "output_type": "stream",
     "text": [
      "C:\\Users\\jhendricks\\AppData\\Local\\Continuum\\Anaconda3\\envs\\tf36\\lib\\site-packages\\h5py\\__init__.py:36: FutureWarning: Conversion of the second argument of issubdtype from `float` to `np.floating` is deprecated. In future, it will be treated as `np.float64 == np.dtype(float).type`.\n",
      "  from ._conv import register_converters as _register_converters\n",
      "Using TensorFlow backend.\n"
     ]
    }
   ],
   "source": [
    "%matplotlib inline\n",
    "\n",
    "import numpy as np\n",
    "import pandas as pd\n",
    "import matplotlib.pyplot as plt\n",
    "import keras\n",
    "from termcolor import colored\n",
    "from keras.models import Sequential\n",
    "from keras.layers import Dense"
   ]
  },
  {
   "cell_type": "code",
   "execution_count": 2,
   "metadata": {},
   "outputs": [],
   "source": [
    "def show_shapes(x_train, y_train, x_test, y_test, color='green'):\n",
    "    print(colored('Training shape:', color, attrs=['bold']))\n",
    "    print('  x_train.shape:', x_train.shape)\n",
    "    print('  y_train.shape:', y_train.shape)\n",
    "    print(colored('\\nTesting shape:', color, attrs=['bold']))\n",
    "    print('  x_test.shape:', x_test.shape)\n",
    "    print('  y_test.shape:', y_test.shape)\n",
    "\n",
    "def plot_data(my_data, cmap=None):\n",
    "    plt.axis('off')\n",
    "    fig = plt.imshow(my_data, cmap=cmap)\n",
    "    fig.axes.get_xaxis().set_visible(False)\n",
    "    fig.axes.get_yaxis().set_visible(False)\n",
    "    print(fig)\n",
    "\n",
    "def show_sample(x_train, y_train, idx=0, color='blue'):\n",
    "    print(colored('x_train sample:', color, attrs=['bold']))\n",
    "    print(x_train[idx])\n",
    "    print(colored('\\ny_train sample:', color, attrs=['bold']))\n",
    "    print(y_train[idx])\n",
    "    \n",
    "def show_sample_image(x_train, y_train, idx=0, color='blue', cmap=None):\n",
    "    print(colored('Label:', color, attrs=['bold']), y_train[idx])\n",
    "    print(colored('Shape:', color, attrs=['bold']), x_train[idx].shape)\n",
    "    print()\n",
    "    plot_data(x_train[idx], cmap=cmap)"
   ]
  },
  {
   "cell_type": "code",
   "execution_count": 3,
   "metadata": {},
   "outputs": [],
   "source": [
    "from keras.datasets import boston_housing\n",
    "\n",
    "(x_train, y_train), (x_test, y_test) = boston_housing.load_data()"
   ]
  },
  {
   "cell_type": "code",
   "execution_count": 4,
   "metadata": {},
   "outputs": [
    {
     "name": "stdout",
     "output_type": "stream",
     "text": [
      "\u001b[1m\u001b[32mTraining shape:\u001b[0m\n",
      "  x_train.shape: (404, 13)\n",
      "  y_train.shape: (404,)\n",
      "\u001b[1m\u001b[32m\n",
      "Testing shape:\u001b[0m\n",
      "  x_test.shape: (102, 13)\n",
      "  y_test.shape: (102,)\n",
      "\n",
      "******************************\n",
      "\n",
      "\u001b[1m\u001b[34mx_train sample:\u001b[0m\n",
      "[  1.23247   0.        8.14      0.        0.538     6.142    91.7\n",
      "   3.9769    4.      307.       21.      396.9      18.72   ]\n",
      "\u001b[1m\u001b[34m\n",
      "y_train sample:\u001b[0m\n",
      "15.2\n"
     ]
    }
   ],
   "source": [
    "show_shapes(x_train, y_train, x_test, y_test)\n",
    "\n",
    "print('\\n******************************\\n')\n",
    "\n",
    "show_sample(x_train, y_train)"
   ]
  },
  {
   "cell_type": "markdown",
   "metadata": {},
   "source": [
    "#### x_train\n",
    "1. CRIM      per capita crime rate by town\n",
    "2. ZN        proportion of residential land zoned for lots over 25,000 sq.ft.\n",
    "3. INDUS     proportion of non-retail business acres per town\n",
    "4. CHAS      Charles River dummy variable (= 1 if tract bounds river; 0 otherwise)\n",
    "5. NOX       nitric oxides concentration (parts per 10 million)\n",
    "6. RM        average number of rooms per dwelling\n",
    "7. AGE       proportion of owner-occupied units built prior to 1940\n",
    "8. DIS       weighted distances to five Boston employment centres\n",
    "9. RAD       index of accessibility to radial highways\n",
    "10. TAX      full-value property-tax rate per 10,000's\n",
    "11. PTRATIO  pupil-teacher ratio by town\n",
    "12. B        1000(Bk - 0.63)^2 where Bk is the proportion of blacks by town\n",
    "13. LSTAT    percent lower status of the population\n",
    "\n",
    "#### y_train\n",
    "MEDV     Median value of owner-occupied homes in 1000's"
   ]
  },
  {
   "cell_type": "code",
   "execution_count": 5,
   "metadata": {},
   "outputs": [],
   "source": [
    "# Model definition\n",
    "\n",
    "model = Sequential()\n",
    "model.add(Dense(13, input_dim=13, kernel_initializer='normal', activation='relu'))\n",
    "model.add(Dense(6, kernel_initializer='normal', activation='relu'))\n",
    "model.add(Dense(1, kernel_initializer='normal'))\n",
    "\n",
    "model.compile(loss='mean_squared_error', optimizer='adam')"
   ]
  },
  {
   "cell_type": "code",
   "execution_count": 9,
   "metadata": {},
   "outputs": [
    {
     "name": "stdout",
     "output_type": "stream",
     "text": [
      "_________________________________________________________________\n",
      "Layer (type)                 Output Shape              Param #   \n",
      "=================================================================\n",
      "dense_1 (Dense)              (None, 13)                182       \n",
      "_________________________________________________________________\n",
      "dense_2 (Dense)              (None, 6)                 84        \n",
      "_________________________________________________________________\n",
      "dense_3 (Dense)              (None, 1)                 7         \n",
      "=================================================================\n",
      "Total params: 273\n",
      "Trainable params: 273\n",
      "Non-trainable params: 0\n",
      "_________________________________________________________________\n"
     ]
    }
   ],
   "source": [
    "model.summary()"
   ]
  },
  {
   "cell_type": "code",
   "execution_count": 10,
   "metadata": {},
   "outputs": [
    {
     "name": "stdout",
     "output_type": "stream",
     "text": [
      "Epoch 1/10\n",
      "404/404 [==============================] - 0s 930us/step - loss: 573.3940\n",
      "Epoch 2/10\n",
      "404/404 [==============================] - 0s 49us/step - loss: 531.2198\n",
      "Epoch 3/10\n",
      "404/404 [==============================] - 0s 55us/step - loss: 431.5588\n",
      "Epoch 4/10\n",
      "404/404 [==============================] - 0s 57us/step - loss: 270.0470\n",
      "Epoch 5/10\n",
      "404/404 [==============================] - 0s 50us/step - loss: 150.5388\n",
      "Epoch 6/10\n",
      "404/404 [==============================] - 0s 56us/step - loss: 137.5410\n",
      "Epoch 7/10\n",
      "404/404 [==============================] - 0s 54us/step - loss: 123.1202\n",
      "Epoch 8/10\n",
      "404/404 [==============================] - 0s 59us/step - loss: 115.1205\n",
      "Epoch 9/10\n",
      "404/404 [==============================] - 0s 60us/step - loss: 106.1690\n",
      "Epoch 10/10\n",
      "404/404 [==============================] - 0s 57us/step - loss: 99.3653\n"
     ]
    }
   ],
   "source": [
    "history = model.fit(x_train,y_train,epochs=10,batch_size=32)"
   ]
  }
 ],
 "metadata": {
  "kernelspec": {
   "display_name": "Python 3",
   "language": "python",
   "name": "python3"
  },
  "language_info": {
   "codemirror_mode": {
    "name": "ipython",
    "version": 3
   },
   "file_extension": ".py",
   "mimetype": "text/x-python",
   "name": "python",
   "nbconvert_exporter": "python",
   "pygments_lexer": "ipython3",
   "version": "3.6.5"
  }
 },
 "nbformat": 4,
 "nbformat_minor": 2
}
